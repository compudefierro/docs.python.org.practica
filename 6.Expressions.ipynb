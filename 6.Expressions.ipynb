{
 "cells": [
  {
   "cell_type": "code",
   "execution_count": 3,
   "id": "477a03c8-e5e0-4eb5-82f0-6846315e53dc",
   "metadata": {},
   "outputs": [
    {
     "data": {
      "text/plain": [
       "'3.12.4 | packaged by Anaconda, Inc. | (main, Jun 18 2024, 15:03:56) [MSC v.1929 64 bit (AMD64)]'"
      ]
     },
     "execution_count": 3,
     "metadata": {},
     "output_type": "execute_result"
    }
   ],
   "source": [
    "import sys\n",
    "sys.version"
   ]
  },
  {
   "cell_type": "code",
   "execution_count": 7,
   "id": "de251bd3-07b4-49a7-9e11-6978ecbe9741",
   "metadata": {},
   "outputs": [
    {
     "name": "stdout",
     "output_type": "stream",
     "text": [
      "10\n",
      "42\n"
     ]
    }
   ],
   "source": [
    "i = 10\n",
    "def f():\n",
    "    print(i)\n",
    "f()\n",
    "i = 42\n",
    "f()"
   ]
  },
  {
   "cell_type": "markdown",
   "id": "6ca66f62-aa57-4db6-b657-466f221fca0f",
   "metadata": {},
   "source": [
    "## Generator-iterator methods"
   ]
  },
  {
   "cell_type": "code",
   "execution_count": 15,
   "id": "14d0d853-0fc3-456d-8324-7b9f44846e3d",
   "metadata": {},
   "outputs": [
    {
     "name": "stdout",
     "output_type": "stream",
     "text": [
      "Execution starts when 'next()' is called for the first time.\n",
      "1\n",
      "None\n",
      "2\n",
      "Don't forget to clean up when 'close()' is called.\n"
     ]
    }
   ],
   "source": [
    "def echo(value=None):\n",
    "    print(\"Execution starts when 'next()' is called for the first time.\")\n",
    "    try:\n",
    "        while True:\n",
    "            try:\n",
    "                value = (yield value)\n",
    "            except Exception as e:\n",
    "                value = e\n",
    "    finally:\n",
    "        print(\"Don't forget to clean up when 'close()' is called.\")\n",
    "\n",
    "generator = echo(1)\n",
    "print(next(generator))\n",
    "\n",
    "\n",
    "print(next(generator))\n",
    "\n",
    "print(generator.send(2))\n",
    "\n",
    "generator.throw(TypeError(\"spam\"))\n",
    "\n",
    "generator.close()\n"
   ]
  },
  {
   "cell_type": "code",
   "execution_count": null,
   "id": "ed30f9c3-4cbb-4127-aadf-35e95e48cf18",
   "metadata": {},
   "outputs": [],
   "source": []
  }
 ],
 "metadata": {
  "kernelspec": {
   "display_name": "Python 3 (ipykernel)",
   "language": "python",
   "name": "python3"
  },
  "language_info": {
   "codemirror_mode": {
    "name": "ipython",
    "version": 3
   },
   "file_extension": ".py",
   "mimetype": "text/x-python",
   "name": "python",
   "nbconvert_exporter": "python",
   "pygments_lexer": "ipython3",
   "version": "3.12.4"
  }
 },
 "nbformat": 4,
 "nbformat_minor": 5
}
