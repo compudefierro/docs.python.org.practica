{
 "cells": [
  {
   "cell_type": "code",
   "execution_count": 12,
   "id": "07fc7dc1-75f5-4db2-ae85-d62573f99421",
   "metadata": {},
   "outputs": [
    {
     "data": {
      "text/plain": [
       "['jor', 'jro', 'ojr', 'orj', 'rjo', 'roj']"
      ]
     },
     "execution_count": 12,
     "metadata": {},
     "output_type": "execute_result"
    }
   ],
   "source": [
    "def perm(l):\n",
    "        # Compute the list of all permutations of l\n",
    "    if len(l) <= 1:\n",
    "                  return [l]\n",
    "    r = []\n",
    "    for i in range(len(l)):\n",
    "             s = l[:i] + l[i+1:]\n",
    "             p = perm(s)\n",
    "             for x in p:\n",
    "              r.append(l[i:i+1] + x)\n",
    "    return r\n",
    "perm('jor')"
   ]
  },
  {
   "cell_type": "code",
   "execution_count": null,
   "id": "b18f4eea-41be-4f53-b681-431ff8009a8b",
   "metadata": {},
   "outputs": [],
   "source": []
  }
 ],
 "metadata": {
  "kernelspec": {
   "display_name": "Python 3 (ipykernel)",
   "language": "python",
   "name": "python3"
  },
  "language_info": {
   "codemirror_mode": {
    "name": "ipython",
    "version": 3
   },
   "file_extension": ".py",
   "mimetype": "text/x-python",
   "name": "python",
   "nbconvert_exporter": "python",
   "pygments_lexer": "ipython3",
   "version": "3.9.19"
  }
 },
 "nbformat": 4,
 "nbformat_minor": 5
}
