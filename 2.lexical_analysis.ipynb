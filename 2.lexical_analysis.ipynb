{
 "cells": [
  {
   "cell_type": "code",
   "execution_count": 14,
   "id": "07fc7dc1-75f5-4db2-ae85-d62573f99421",
   "metadata": {},
   "outputs": [
    {
     "data": {
      "text/plain": [
       "['Dog', 'Dgo', 'oDg', 'ogD', 'gDo', 'goD']"
      ]
     },
     "execution_count": 14,
     "metadata": {},
     "output_type": "execute_result"
    }
   ],
   "source": [
    "def perm(l):\n",
    "        # Compute the list of all permutations of l\n",
    "    if len(l) <= 1:\n",
    "                  return [l]\n",
    "    r = []\n",
    "    for i in range(len(l)):\n",
    "             s = l[:i] + l[i+1:]\n",
    "             p = perm(s)\n",
    "             for x in p:\n",
    "              r.append(l[i:i+1] + x)\n",
    "    return r\n",
    "perm('Dog')"
   ]
  },
  {
   "cell_type": "markdown",
   "id": "cab1cc20-8274-40cd-8353-cfbf58075e96",
   "metadata": {},
   "source": [
    "Soft Keywords"
   ]
  },
  {
   "cell_type": "code",
   "execution_count": 1,
   "id": "0fddcda6-a30e-411f-8080-8f138a9182a6",
   "metadata": {},
   "outputs": [
    {
     "name": "stdout",
     "output_type": "stream",
     "text": [
      "Not found\n"
     ]
    }
   ],
   "source": [
    "def http_error(status):\n",
    "    match status:\n",
    "        case 400:\n",
    "            return \"Bad request\"\n",
    "        case 404:\n",
    "            return \"Not found\"\n",
    "        case 418:\n",
    "            return \"I'm a teapot\"\n",
    "        case _:\n",
    "            return \"Something else\"\n",
    "\n",
    "print(http_error(404))  # Output: Not found\n"
   ]
  },
  {
   "cell_type": "code",
   "execution_count": 20,
   "id": "0f9a9179-d887-468d-88a0-d912d636077a",
   "metadata": {},
   "outputs": [
    {
     "name": "stdout",
     "output_type": "stream",
     "text": [
      "This is a variable name\n",
      "123\n"
     ]
    }
   ],
   "source": [
    "match = \"This is a variable name\"\n",
    "case = 123\n",
    "\n",
    "print(match)  # Output: This is a variable name\n",
    "print(case)   # Output: 123\n"
   ]
  },
  {
   "cell_type": "code",
   "execution_count": null,
   "id": "41981dd0-858a-437d-9151-a9ec585c8402",
   "metadata": {},
   "outputs": [],
   "source": []
  }
 ],
 "metadata": {
  "kernelspec": {
   "display_name": "py312",
   "language": "python",
   "name": "py312"
  },
  "language_info": {
   "codemirror_mode": {
    "name": "ipython",
    "version": 3
   },
   "file_extension": ".py",
   "mimetype": "text/x-python",
   "name": "python",
   "nbconvert_exporter": "python",
   "pygments_lexer": "ipython3",
   "version": "3.12.4"
  }
 },
 "nbformat": 4,
 "nbformat_minor": 5
}
