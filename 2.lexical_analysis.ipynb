{
 "cells": [
  {
   "cell_type": "code",
   "execution_count": 14,
   "id": "07fc7dc1-75f5-4db2-ae85-d62573f99421",
   "metadata": {},
   "outputs": [
    {
     "data": {
      "text/plain": [
       "['Dog', 'Dgo', 'oDg', 'ogD', 'gDo', 'goD']"
      ]
     },
     "execution_count": 14,
     "metadata": {},
     "output_type": "execute_result"
    }
   ],
   "source": [
    "def perm(l):\n",
    "        # Compute the list of all permutations of l\n",
    "    if len(l) <= 1:\n",
    "                  return [l]\n",
    "    r = []\n",
    "    for i in range(len(l)):\n",
    "             s = l[:i] + l[i+1:]\n",
    "             p = perm(s)\n",
    "             for x in p:\n",
    "              r.append(l[i:i+1] + x)\n",
    "    return r\n",
    "perm('Dog')"
   ]
  },
  {
   "cell_type": "markdown",
   "id": "cab1cc20-8274-40cd-8353-cfbf58075e96",
   "metadata": {},
   "source": [
    "Soft Keywords"
   ]
  },
  {
   "cell_type": "code",
   "execution_count": 1,
   "id": "0fddcda6-a30e-411f-8080-8f138a9182a6",
   "metadata": {},
   "outputs": [
    {
     "name": "stdout",
     "output_type": "stream",
     "text": [
      "Not found\n"
     ]
    }
   ],
   "source": [
    "def http_error(status):\n",
    "    match status:\n",
    "        case 400:\n",
    "            return \"Bad request\"\n",
    "        case 404:\n",
    "            return \"Not found\"\n",
    "        case 418:\n",
    "            return \"I'm a teapot\"\n",
    "        case _:\n",
    "            return \"Something else\"\n",
    "\n",
    "print(http_error(404))  # Output: Not found\n"
   ]
  },
  {
   "cell_type": "code",
   "execution_count": 3,
   "id": "0f9a9179-d887-468d-88a0-d912d636077a",
   "metadata": {},
   "outputs": [
    {
     "name": "stdout",
     "output_type": "stream",
     "text": [
      "underscore variable\n",
      "This is a variable name\n",
      "123\n"
     ]
    }
   ],
   "source": [
    "match = \"This is a variable name\"\n",
    "case = 123\n",
    "_ = \"underscore variable\"\n",
    "\n",
    "print(_)  # Output: underscore variable\n",
    "print(match)  # Output: This is a variable name\n",
    "print(case)   # Output: 123\n"
   ]
  },
  {
   "cell_type": "code",
   "execution_count": 5,
   "id": "41981dd0-858a-437d-9151-a9ec585c8402",
   "metadata": {},
   "outputs": [
    {
     "name": "stdout",
     "output_type": "stream",
     "text": [
      "<class 'int'>\n"
     ]
    }
   ],
   "source": [
    "def func(x: int) -> type:\n",
    "    match x:\n",
    "        case 1:\n",
    "            return int\n",
    "        case 2:\n",
    "            return str\n",
    "        case _:\n",
    "            return None\n",
    "\n",
    "print(func(1))  # Output: <class 'int'>\n"
   ]
  },
  {
   "cell_type": "code",
   "execution_count": 7,
   "id": "373edab0-d390-49df-b735-fa06b79675d6",
   "metadata": {},
   "outputs": [
    {
     "name": "stdout",
     "output_type": "stream",
     "text": [
      "This is a variable name\n"
     ]
    }
   ],
   "source": [
    "type = \"This is a variable name\"\n",
    "print(type)  # Output: This is a variable name\n"
   ]
  },
  {
   "cell_type": "markdown",
   "id": "ae867626-ec9d-47dc-a7d1-64487f63b6f2",
   "metadata": {},
   "source": [
    "Reserved classes of identifiers"
   ]
  },
  {
   "cell_type": "code",
   "execution_count": 9,
   "id": "98cebd3e-63ba-4795-b6b1-cc72d489ceb5",
   "metadata": {},
   "outputs": [
    {
     "name": "stdout",
     "output_type": "stream",
     "text": [
      "Value: 42\n"
     ]
    }
   ],
   "source": [
    "class MyClass:\n",
    "    def __init__(self, value):\n",
    "        self.__value__ = value\n",
    "\n",
    "    def __str__(self):\n",
    "        return f\"Value: {self.__value__}\"\n",
    "\n",
    "obj = MyClass(42)\n",
    "print(obj)  # Output: Value: 42\n"
   ]
  },
  {
   "cell_type": "code",
   "execution_count": 11,
   "id": "a9fefac0-4c8c-4b9e-9a94-f49d8339472e",
   "metadata": {},
   "outputs": [
    {
     "name": "stdout",
     "output_type": "stream",
     "text": [
      "42\n",
      "42\n"
     ]
    }
   ],
   "source": [
    "class MyClass:\n",
    "    def __init__(self):\n",
    "        self.__private = 42\n",
    "\n",
    "    def get_private(self):\n",
    "        return self.__private\n",
    "\n",
    "obj = MyClass()\n",
    "print(obj.get_private())  # Output: 42\n",
    "# Intentar acceder directamente al atributo privado resultará en un AttributeError\n",
    "# print(obj.__private)  # Esto lanza un AttributeError\n",
    "\n",
    "# Acceso a través de la forma \"mangled\"\n",
    "print(obj._MyClass__private)  # Output: 42\n"
   ]
  },
  {
   "cell_type": "markdown",
   "id": "d7b3680c-5c0c-46bd-a925-103b7980ac11",
   "metadata": {},
   "source": [
    "# Literals\r\n",
    "Literals are notations for constant values of some built-in types\n",
    "## f-strings."
   ]
  },
  {
   "cell_type": "code",
   "execution_count": 38,
   "id": "135cbba4-ad4e-4aea-a816-517330de622e",
   "metadata": {},
   "outputs": [
    {
     "name": "stdout",
     "output_type": "stream",
     "text": [
      "He said his name is 'Fred'.\n",
      "He said his name is 'Fred'.\n",
      "result:      12.35\n",
      "January 27, 2017\n",
      "today=January 27, 2017\n",
      "0x400\n",
      " foo = 'bar'\n",
      "line = \"The mill's closed\"\n",
      "line = The mill's closed   \n",
      "line = \"The mill's closed\" \n"
     ]
    }
   ],
   "source": [
    "import decimal\n",
    "import datetime\n",
    "\n",
    "name = \"Fred\"\n",
    "print(f\"He said his name is {name!r}.\")\n",
    "\n",
    "print(f\"He said his name is {repr(name)}.\") # repr() is equivalent to !r\n",
    "\n",
    "width = 10\n",
    "precision = 4\n",
    "value = decimal.Decimal(\"12.34567\")\n",
    "print(f\"result: {value:{width}.{precision}}\")  # nested fields)\n",
    "\n",
    "today = datetime.datetime(year=2017, month=1, day=27)\n",
    "print(f\"{today:%B %d, %Y}\")  # using date format specifier\n",
    "\n",
    "print(f\"{today=:%B %d, %Y}\") # using date format specifier and debugging\n",
    "\n",
    "number = 1024\n",
    "print(f\"{number:#0x}\")  # using integer format specifier\n",
    "\n",
    "foo = \"bar\"\n",
    "print(f\"{ foo = }\") # preserves whitespace\n",
    "\n",
    "line = \"The mill's closed\"\n",
    "print(f\"{line = }\")\n",
    "\n",
    "print(f\"{line = :20}\")\n",
    "\n",
    "print(f\"{line = !r:20}\")\n",
    "\n"
   ]
  },
  {
   "cell_type": "markdown",
   "id": "1576cc5d-ff6b-4d8c-b489-90d3d688ada3",
   "metadata": {},
   "source": [
    "# Operators\r\n",
    "The following tokens are operators:\r\n",
    "\r\n",
    "+       -       *       **      /       //      %      @\r\n",
    "<<      >>      &       |       ^       ~       :=\r\n",
    "<       >       <=      >=      ==    # \n",
    "2.6. Delimiters\r\n",
    "The following tokens serve as delimiters in the grammar:\r\n",
    "\r\n",
    "(       )       [       ]       {       }\r\n",
    ",       :       .       ;       @       =       ->\r\n",
    "+=      -=      *=      /=      //=     %=      @=\r\n",
    "&=      |=      ^=      >>=     <<=     **="
   ]
  }
 ],
 "metadata": {
  "kernelspec": {
   "display_name": "py312",
   "language": "python",
   "name": "py312"
  },
  "language_info": {
   "codemirror_mode": {
    "name": "ipython",
    "version": 3
   },
   "file_extension": ".py",
   "mimetype": "text/x-python",
   "name": "python",
   "nbconvert_exporter": "python",
   "pygments_lexer": "ipython3",
   "version": "3.12.4"
  }
 },
 "nbformat": 4,
 "nbformat_minor": 5
}
